{
 "cells": [
  {
   "cell_type": "code",
   "execution_count": 2,
   "id": "d8aaaea6",
   "metadata": {},
   "outputs": [],
   "source": [
    "import mglearn"
   ]
  },
  {
   "cell_type": "code",
   "execution_count": 60,
   "id": "2d700895",
   "metadata": {},
   "outputs": [],
   "source": [
    "import numpy as np\n",
    "import matplotlib.pyplot as plt\n",
    "%matplotlib inline"
   ]
  },
  {
   "cell_type": "markdown",
   "id": "73fb2222",
   "metadata": {},
   "source": [
    "# Linear Regresion"
   ]
  },
  {
   "cell_type": "markdown",
   "id": "c8e12664",
   "metadata": {},
   "source": [
    "## Ordinary Least Squares (OLS)\n",
    "\n",
    "Linear regression, or ordinary least squares (OLS), is the simplest and most classic linear method for regression. Linear regression finds the parameters `w` and `b` that minimize the mean squared error between predictions and the true regression targets, y, on the training set. The `mean squared error` is the sum of the squared differences between the predictions and the true values. Linear regression (OLS) has no parameters, which is a benefit, but it also has no way to control model complexity."
   ]
  },
  {
   "cell_type": "markdown",
   "id": "c7b5547a",
   "metadata": {},
   "source": [
    "### Linear regression using OLS on `make_wave` dataset"
   ]
  },
  {
   "cell_type": "code",
   "execution_count": 3,
   "id": "51904874",
   "metadata": {},
   "outputs": [],
   "source": [
    "x, y = mglearn.datasets.make_wave(n_samples=60)"
   ]
  },
  {
   "cell_type": "code",
   "execution_count": 7,
   "id": "5a6eee83",
   "metadata": {},
   "outputs": [
    {
     "data": {
      "text/plain": [
       "(60, 1)"
      ]
     },
     "execution_count": 7,
     "metadata": {},
     "output_type": "execute_result"
    }
   ],
   "source": [
    "x.shape"
   ]
  },
  {
   "cell_type": "code",
   "execution_count": 9,
   "id": "2d9fdc7b",
   "metadata": {},
   "outputs": [
    {
     "data": {
      "text/plain": [
       "array([-1.18073311,  0.50015912,  0.13772889,  1.17396178, -1.32035898,\n",
       "       -2.37364735, -0.70117304,  1.20319981,  0.29262945,  0.44971554,\n",
       "       -0.48647165,  1.39515571,  1.0738403 , -1.30838148, -1.27708305,\n",
       "       -0.94575843, -0.32691082,  0.26134393, -1.25635546, -0.74646948,\n",
       "        0.96250584, -0.75240909, -0.17851354,  0.13368988, -0.38575444,\n",
       "        0.79900059, -1.11948406,  0.97923163,  0.65823236, -0.08137001,\n",
       "       -0.72142625, -1.0767626 , -0.83684971,  0.70945882,  0.95081838,\n",
       "        0.38109799, -0.19612826, -0.9139074 ,  0.81263817, -0.93416482,\n",
       "       -1.7113156 , -0.32309571, -0.44713127,  1.19812891, -0.75150632,\n",
       "        0.40012342, -0.02565504,  0.77613985,  0.23938228, -1.58831973,\n",
       "        0.73141352,  0.25092544,  1.01581268,  1.28948157,  0.65213403,\n",
       "        0.82614241, -1.7240941 , -1.54664568, -1.03731593, -0.49131681])"
      ]
     },
     "execution_count": 9,
     "metadata": {},
     "output_type": "execute_result"
    }
   ],
   "source": [
    "y"
   ]
  },
  {
   "cell_type": "code",
   "execution_count": 10,
   "id": "ae01bad7",
   "metadata": {},
   "outputs": [
    {
     "data": {
      "text/plain": [
       "(60,)"
      ]
     },
     "execution_count": 10,
     "metadata": {},
     "output_type": "execute_result"
    }
   ],
   "source": [
    "y.shape"
   ]
  },
  {
   "cell_type": "code",
   "execution_count": 4,
   "id": "e9ba2406",
   "metadata": {},
   "outputs": [],
   "source": [
    "from sklearn.model_selection import train_test_split"
   ]
  },
  {
   "cell_type": "code",
   "execution_count": 12,
   "id": "f184050f",
   "metadata": {},
   "outputs": [],
   "source": [
    "x_train, x_test, y_train, y_test = train_test_split(x, y, random_state=42)"
   ]
  },
  {
   "cell_type": "code",
   "execution_count": 13,
   "id": "d6299f1b",
   "metadata": {},
   "outputs": [],
   "source": [
    "from sklearn.linear_model import LinearRegression\n",
    "lr = LinearRegression().fit(x_train, y_train)"
   ]
  },
  {
   "cell_type": "code",
   "execution_count": 14,
   "id": "82066a65",
   "metadata": {},
   "outputs": [
    {
     "name": "stdout",
     "output_type": "stream",
     "text": [
      "lr.coef_ :[0.39390555]\n",
      "lr.intercept_ :-0.031804343026759746\n"
     ]
    }
   ],
   "source": [
    "print('lr.coef_ :{}'.format(lr.coef_))\n",
    "print('lr.intercept_ :{}'.format(lr.intercept_))"
   ]
  },
  {
   "cell_type": "code",
   "execution_count": 15,
   "id": "336e6b7d",
   "metadata": {},
   "outputs": [
    {
     "data": {
      "text/plain": [
       "numpy.ndarray"
      ]
     },
     "execution_count": 15,
     "metadata": {},
     "output_type": "execute_result"
    }
   ],
   "source": [
    "type(lr.coef_)"
   ]
  },
  {
   "cell_type": "code",
   "execution_count": 17,
   "id": "1e2b5f8d",
   "metadata": {},
   "outputs": [
    {
     "data": {
      "text/plain": [
       "numpy.float64"
      ]
     },
     "execution_count": 17,
     "metadata": {},
     "output_type": "execute_result"
    }
   ],
   "source": [
    "type(lr.intercept_)"
   ]
  },
  {
   "cell_type": "code",
   "execution_count": 18,
   "id": "05063bae",
   "metadata": {},
   "outputs": [
    {
     "name": "stdout",
     "output_type": "stream",
     "text": [
      "Training set score: 0.67\n",
      "Test set score: 0.66\n"
     ]
    }
   ],
   "source": [
    "# performance on training set and test set\n",
    "\n",
    "print('Training set score: {:.2f}'.format(lr.score(x_train,y_train)))\n",
    "print('Test set score: {:.2f}'.format(lr.score(x_test,y_test)))"
   ]
  },
  {
   "cell_type": "markdown",
   "id": "644e7db8",
   "metadata": {},
   "source": [
    "R2 value is not very good but score on training and tets set is very close. Model is likely <b>underfitting</b>. "
   ]
  },
  {
   "cell_type": "markdown",
   "id": "ee016c99",
   "metadata": {},
   "source": [
    "### Linear regression using OLS on `extended_boston` dataset"
   ]
  },
  {
   "cell_type": "code",
   "execution_count": 20,
   "id": "242e4e9f",
   "metadata": {},
   "outputs": [],
   "source": [
    "x, y = mglearn.datasets.load_extended_boston()"
   ]
  },
  {
   "cell_type": "code",
   "execution_count": 21,
   "id": "01fd0a31",
   "metadata": {},
   "outputs": [],
   "source": [
    "from sklearn.model_selection import train_test_split\n",
    "x_train, x_test, y_train, y_test = train_test_split(x, y, random_state=0)"
   ]
  },
  {
   "cell_type": "code",
   "execution_count": 23,
   "id": "2b5eaab8",
   "metadata": {},
   "outputs": [
    {
     "data": {
      "text/plain": [
       "(379, 104)"
      ]
     },
     "execution_count": 23,
     "metadata": {},
     "output_type": "execute_result"
    }
   ],
   "source": [
    "x_train.shape"
   ]
  },
  {
   "cell_type": "code",
   "execution_count": 24,
   "id": "36f6793c",
   "metadata": {},
   "outputs": [
    {
     "data": {
      "text/plain": [
       "numpy.ndarray"
      ]
     },
     "execution_count": 24,
     "metadata": {},
     "output_type": "execute_result"
    }
   ],
   "source": [
    "type(x_train)"
   ]
  },
  {
   "cell_type": "code",
   "execution_count": 25,
   "id": "9967998b",
   "metadata": {},
   "outputs": [
    {
     "data": {
      "text/plain": [
       "(127, 104)"
      ]
     },
     "execution_count": 25,
     "metadata": {},
     "output_type": "execute_result"
    }
   ],
   "source": [
    "x_test.shape"
   ]
  },
  {
   "cell_type": "code",
   "execution_count": 26,
   "id": "989cd1da",
   "metadata": {},
   "outputs": [
    {
     "data": {
      "text/plain": [
       "(379,)"
      ]
     },
     "execution_count": 26,
     "metadata": {},
     "output_type": "execute_result"
    }
   ],
   "source": [
    "y_train.shape"
   ]
  },
  {
   "cell_type": "code",
   "execution_count": 27,
   "id": "711776bf",
   "metadata": {},
   "outputs": [
    {
     "data": {
      "text/plain": [
       "(127,)"
      ]
     },
     "execution_count": 27,
     "metadata": {},
     "output_type": "execute_result"
    }
   ],
   "source": [
    "y_test.shape"
   ]
  },
  {
   "cell_type": "code",
   "execution_count": 29,
   "id": "5c561171",
   "metadata": {},
   "outputs": [],
   "source": [
    "from sklearn.linear_model import LinearRegression\n",
    "lr1 = LinearRegression().fit(x_train, y_train)"
   ]
  },
  {
   "cell_type": "code",
   "execution_count": 31,
   "id": "c1f7477c",
   "metadata": {},
   "outputs": [
    {
     "name": "stdout",
     "output_type": "stream",
     "text": [
      "Coefficients: [-4.12710947e+02 -5.22432068e+01 -1.31898815e+02 -1.20041365e+01\n",
      " -1.55107129e+01  2.87163342e+01  5.47040992e+01 -4.95346659e+01\n",
      "  2.65823927e+01  3.70620316e+01 -1.18281674e+01 -1.80581965e+01\n",
      " -1.95246830e+01  1.22025403e+01  2.98078144e+03  1.50084257e+03\n",
      "  1.14187325e+02 -1.69700520e+01  4.09613691e+01 -2.42636646e+01\n",
      "  5.76157466e+01  1.27812142e+03 -2.23986944e+03  2.22825472e+02\n",
      " -2.18201083e+00  4.29960320e+01 -1.33981515e+01 -1.93893485e+01\n",
      " -2.57541277e+00 -8.10130128e+01  9.66019367e+00  4.91423718e+00\n",
      " -8.12114800e-01 -7.64694179e+00  3.37837099e+01 -1.14464390e+01\n",
      "  6.85083979e+01 -1.73753604e+01  4.28128204e+01  1.13988209e+00\n",
      " -7.72696840e-01  5.68255921e+01  1.42875996e+01  5.39551110e+01\n",
      " -3.21709644e+01  1.92709675e+01 -1.38852338e+01  6.06343266e+01\n",
      " -1.23153942e+01 -1.20041365e+01 -1.77243899e+01 -3.39868183e+01\n",
      "  7.08999816e+00 -9.22538241e+00  1.71980268e+01 -1.27718431e+01\n",
      " -1.19727581e+01  5.73871915e+01 -1.75331865e+01  4.10103194e+00\n",
      "  2.93666477e+01 -1.76611772e+01  7.84049424e+01 -3.19098015e+01\n",
      "  4.81752461e+01 -3.95344813e+01  5.22959055e+00  2.19982410e+01\n",
      "  2.56483934e+01 -4.99982035e+01  2.91457545e+01  8.94267456e+00\n",
      " -7.16599297e+01 -2.28147862e+01  8.40660981e+00 -5.37905422e+00\n",
      "  1.20137322e+00 -5.20877186e+00  4.11452351e+01 -3.78250760e+01\n",
      " -2.67163851e+00 -2.55217108e+01 -3.33982030e+01  4.62272693e+01\n",
      " -2.41509169e+01 -1.77532970e+01 -1.39723701e+01 -2.35522208e+01\n",
      "  3.68353800e+01 -9.46890859e+01  1.44302810e+02 -1.51158659e+01\n",
      " -1.49513436e+01 -2.87729579e+01 -3.17673192e+01  2.49551594e+01\n",
      " -1.84384534e+01  3.65073948e+00  1.73101122e+00  3.53617137e+01\n",
      "  1.19553429e+01  6.77025947e-01  2.73452009e+00  3.03720012e+01]\n",
      "Intercept: 30.934563673637694\n"
     ]
    }
   ],
   "source": [
    "print('Coefficients: {}'.format(lr1.coef_))\n",
    "print('Intercept: {}'.format(lr1.intercept_))"
   ]
  },
  {
   "cell_type": "code",
   "execution_count": 32,
   "id": "0cd8813c",
   "metadata": {},
   "outputs": [
    {
     "name": "stdout",
     "output_type": "stream",
     "text": [
      "Training set score: 0.95\n",
      "Test set score: 0.61\n"
     ]
    }
   ],
   "source": [
    "# performance on training set and test set\n",
    "\n",
    "print('Training set score: {:.2f}'.format(lr1.score(x_train, y_train)))\n",
    "print('Test set score: {:.2f}'.format(lr1.score(x_test, y_test)))"
   ]
  },
  {
   "cell_type": "markdown",
   "id": "1cb6289d",
   "metadata": {},
   "source": [
    "This discrepancy between performance on the training set and the test set is a clear sign of <b>overfitting</b>, and therefore we should try to find a model that allows us to control complexity. One of the most commonly used alternatives to standard linear regression is <b>ridge regression</b>."
   ]
  },
  {
   "cell_type": "markdown",
   "id": "346ac852",
   "metadata": {},
   "source": [
    "## Ridge Regression\n",
    "\n",
    "Ridge regression is also a linear model for regression, so the formula it uses to make predictions is the same one used for ordinary least squares. In ridge regression,\n",
    "though, the coefficients (`w`) are chosen not only so that they predict well on the training data, but also to fit an additional constraint.\n",
    "We also want the magnitude of coefficients to be as small as possible; in other words, all entries of `w` should be close to zero. Intuitively, this means each feature should have as little effect on the outcome as\n",
    "possible (which translates to having a small slope), while still predicting well. This constraint is an example of what is called regularization. <b>Regularization means explicitly restricting a model to avoid overfitting</b>. The particular kind used by ridge regression is known as <b>L2 regularization</b>."
   ]
  },
  {
   "cell_type": "markdown",
   "id": "4b98c66a",
   "metadata": {},
   "source": [
    "### Ridge regression on `extended_boston` dataset"
   ]
  },
  {
   "cell_type": "code",
   "execution_count": 36,
   "id": "287ba9a6",
   "metadata": {},
   "outputs": [],
   "source": [
    "x, y = mglearn.datasets.load_extended_boston()\n",
    "\n",
    "from sklearn.model_selection import train_test_split\n",
    "x_train, x_test, y_train, y_test = train_test_split(x, y, random_state=0)"
   ]
  },
  {
   "cell_type": "code",
   "execution_count": 37,
   "id": "144b4921",
   "metadata": {},
   "outputs": [],
   "source": [
    "from sklearn.linear_model import Ridge\n",
    "ridge = Ridge().fit(x_train, y_train)"
   ]
  },
  {
   "cell_type": "code",
   "execution_count": 38,
   "id": "153679ca",
   "metadata": {},
   "outputs": [
    {
     "name": "stdout",
     "output_type": "stream",
     "text": [
      "Coefficients:[-1.41368408e+00 -1.55661895e+00 -1.46543409e+00 -1.26616071e-01\n",
      " -7.91193605e-02  8.33161023e+00  2.54975060e-01 -4.94145701e+00\n",
      "  3.89862268e+00 -1.05866058e+00 -1.58433734e+00  1.05103856e+00\n",
      " -4.01220799e+00  3.33720475e-01  3.64725471e-03 -8.49295793e-01\n",
      "  7.44989267e-01 -1.43106836e+00 -1.62981017e+00 -1.40486294e+00\n",
      " -4.47314366e-02 -1.74619880e+00 -1.46715888e+00 -1.33237111e+00\n",
      " -1.69154625e+00 -5.06179637e-01  2.62197591e+00 -2.09210002e+00\n",
      "  1.95074661e-01 -2.75469422e-01  5.11308202e+00 -1.67083739e+00\n",
      " -9.81863179e-02  6.34477127e-01 -6.10008281e-01  4.01805897e-02\n",
      " -1.27661999e+00 -2.91349679e+00  3.39544035e+00  7.91904036e-01\n",
      "  1.35260232e+00 -4.03661265e+00  2.32361734e+00 -3.36712926e+00\n",
      "  1.81279204e+00  3.01566897e+00 -1.89452070e+00 -2.50844073e-01\n",
      " -2.89543735e+00 -1.26616071e-01 -5.00217192e+00 -2.43951806e+00\n",
      "  2.85071846e+00 -8.57081177e-01  2.99141960e+00  2.34589755e+00\n",
      "  1.31207081e+00  1.71845119e+00 -2.59766697e+00 -1.32370675e+00\n",
      " -2.81242223e+00 -2.09117058e+00 -1.08428335e+00 -2.73843625e+00\n",
      " -1.61989753e+00 -2.80493280e+00  9.44641482e-01 -1.65363374e+00\n",
      "  1.66553558e+01 -1.10980551e+00  2.14188605e+00 -8.03855387e+00\n",
      " -8.59149928e+00 -7.54161099e+00  1.02924022e+01 -7.96425897e+00\n",
      "  7.68540742e-01 -1.85213002e+00  2.51497387e+00 -3.42074257e-01\n",
      " -1.79604278e+00 -2.93048162e-01 -4.78242379e+00  8.63283317e-01\n",
      "  4.22361423e-01 -1.41656695e+00 -2.12023113e-01 -5.08121369e+00\n",
      " -5.47247509e-01  1.53835390e+00  1.81348033e+00  1.97252021e+00\n",
      "  1.81849652e+00 -7.14338697e+00  1.10472533e+00  1.42242216e+00\n",
      " -1.31494020e+00 -6.77170441e+00  1.82204476e+00 -2.36112444e+00\n",
      "  4.34670572e-02  1.20886000e+00 -6.32599163e+00  1.03600231e+01]\n",
      "Intercept:21.390525958609793\n"
     ]
    }
   ],
   "source": [
    "print('Coefficients:{}'.format(ridge.coef_))\n",
    "print('Intercept:{}'.format(ridge.intercept_))"
   ]
  },
  {
   "cell_type": "code",
   "execution_count": 39,
   "id": "4f660eff",
   "metadata": {},
   "outputs": [
    {
     "name": "stdout",
     "output_type": "stream",
     "text": [
      "Training set score: 0.89\n",
      "Test set score: 0.75\n"
     ]
    }
   ],
   "source": [
    "# Model performance on training and test set\n",
    "print('Training set score: {:.2f}'.format(ridge.score(x_train,y_train)))\n",
    "print('Test set score: {:.2f}'.format(ridge.score(x_test,y_test)))"
   ]
  },
  {
   "cell_type": "markdown",
   "id": "be257656",
   "metadata": {},
   "source": [
    "With linear regression (OLS), we were overfitting our data. Ridge is a more restricted model, so we are\n",
    "less likely to overfit. A less complex model means worse performance on the training\n",
    "set, but better generalization.\n",
    "\n",
    "The Ridge model makes a trade-off between the simplicity of the model (near-zero\n",
    "coefficients) and its performance on the training set using `alpha` parameter. Increasing alpha forces coefficients to move more toward zero, which decreases\n",
    "training set performance but might help generalization. Decreasing alpha allows the coefficients to be less restricted.\n",
    "\n",
    "Plots that show model performance as a function of dataset\n",
    "size are called <b><i>learning curves</i></b>"
   ]
  },
  {
   "cell_type": "code",
   "execution_count": 40,
   "id": "987a470b",
   "metadata": {},
   "outputs": [
    {
     "data": {
      "image/png": "[encoded data removed]",
      "text/plain": [
       "<Figure size 432x288 with 1 Axes>"
      ]
     },
     "metadata": {
      "needs_background": "light"
     },
     "output_type": "display_data"
    }
   ],
   "source": [
    "mglearn.plots.plot_ridge_n_samples()"
   ]
  },
  {
   "cell_type": "markdown",
   "id": "96966164",
   "metadata": {},
   "source": [
    "With enough training data, regularization becomes less important, and given enough data, ridge and\n",
    "linear regression will have the same performance.\n",
    "\n",
    "Another interesting aspect to observe is the decrease in training performance for linear regression. If more data\n",
    "is added, it becomes harder for a model to overfit, or memorize the data."
   ]
  },
  {
   "cell_type": "markdown",
   "id": "f3beb482",
   "metadata": {},
   "source": [
    "## Lasso Regression\n",
    "\n",
    "An alternative to Ridge for regularizing linear regression is Lasso. As with ridge\n",
    "regression, using the lasso also restricts coefficients to be close to zero, but in a\n",
    "slightly different way, called <b>L1 regularization</b>.\n",
    "The consequence of L1 regularization\n",
    "is that when using the lasso, some coefficients are <b>exactly zero</b>. This means some features are entirely ignored by the model. This can be seen as a form of automatic feature selection. Having some coefficients be exactly zero often makes a model easier to\n",
    "interpret, and can reveal the most important features of your model."
   ]
  },
  {
   "cell_type": "markdown",
   "id": "3c40921f",
   "metadata": {},
   "source": [
    "### Lasso regression on `extended_boston` dataset"
   ]
  },
  {
   "cell_type": "code",
   "execution_count": 41,
   "id": "aa36f7bb",
   "metadata": {},
   "outputs": [],
   "source": [
    "from sklearn.model_selection import train_test_split\n",
    "\n",
    "x,y = mglearn.datasets.load_extended_boston()\n",
    "x_train, x_test, y_train, y_test = train_test_split(x,y,random_state=0)"
   ]
  },
  {
   "cell_type": "code",
   "execution_count": 43,
   "id": "2546e5fb",
   "metadata": {},
   "outputs": [],
   "source": [
    "from sklearn.linear_model import Lasso\n",
    "lasso = Lasso().fit(x_train, y_train)"
   ]
  },
  {
   "cell_type": "code",
   "execution_count": 44,
   "id": "d2d1ee80",
   "metadata": {},
   "outputs": [
    {
     "name": "stdout",
     "output_type": "stream",
     "text": [
      "Coefficient: [-0.          0.         -0.          0.         -0.          0.\n",
      " -0.          0.         -0.         -0.         -0.          0.\n",
      " -5.3529079  -0.          0.         -0.          0.         -0.\n",
      " -0.         -0.         -0.         -0.         -0.         -0.\n",
      " -0.         -0.          0.          0.          0.          0.\n",
      "  0.          0.          0.          0.          0.          0.\n",
      "  0.          0.         -0.          0.         -0.         -0.\n",
      " -0.         -0.         -0.         -0.         -0.         -0.\n",
      " -0.          0.          0.          0.          0.          0.\n",
      "  0.          0.          0.          0.         -0.         -0.\n",
      " -0.         -0.         -0.         -0.         -0.         -0.\n",
      " -0.         -0.          0.          0.          0.         -0.\n",
      " -0.         -0.          0.         -0.         -0.          0.\n",
      " -0.         -1.05063037 -3.3104274  -0.         -0.          0.\n",
      " -0.         -0.         -0.          0.         -0.         -0.41386744\n",
      " -0.         -0.         -0.         -0.         -0.         -0.\n",
      " -0.         -0.         -0.         -0.         -0.          0.\n",
      " -0.         -0.        ]\n",
      "Intercept: 26.124530144985922\n"
     ]
    }
   ],
   "source": [
    "print('Coefficient: {}'.format(lasso.coef_))\n",
    "print('Intercept: {}'.format(lasso.intercept_))"
   ]
  },
  {
   "cell_type": "code",
   "execution_count": 49,
   "id": "ec81d7ad",
   "metadata": {},
   "outputs": [
    {
     "name": "stdout",
     "output_type": "stream",
     "text": [
      "Training set score: 0.29\n",
      "Test set score: 0.21\n",
      "Number of features used: 4\n"
     ]
    }
   ],
   "source": [
    "# Performance on training and test set\n",
    "print('Training set score: {:.2f}'.format(lasso.score(x_train,y_train)))\n",
    "print('Test set score: {:.2f}'.format(lasso.score(x_test,y_test)))\n",
    "print('Number of features used: {}'.format(np.sum(lasso.coef_!=0)))"
   ]
  },
  {
   "cell_type": "markdown",
   "id": "cde2a3bc",
   "metadata": {},
   "source": [
    "Lasso does quite badly, both on the training and the test set. This\n",
    "indicates that we are underfitting, and we find that it used only 4 of the 105 features.  To reduce underfitting, let’s try decreasing `alpha`. When we\n",
    "do this, we also need to increase the default setting of `max_iter`"
   ]
  },
  {
   "cell_type": "code",
   "execution_count": 52,
   "id": "f903a7da",
   "metadata": {},
   "outputs": [
    {
     "name": "stdout",
     "output_type": "stream",
     "text": [
      "Training set score: 0.77\n",
      "Test set score: 0.63\n",
      "Number of features used: 8\n"
     ]
    }
   ],
   "source": [
    "# trying with alpha=0.1\n",
    "\n",
    "from sklearn.linear_model import Lasso\n",
    "lasso_1 = Lasso(alpha=0.1).fit(x_train, y_train)\n",
    "# Performance on training and test set\n",
    "print('Training set score: {:.2f}'.format(lasso_1.score(x_train,y_train)))\n",
    "print('Test set score: {:.2f}'.format(lasso_1.score(x_test,y_test)))\n",
    "print('Number of features used: {}'.format(np.sum(lasso_1.coef_!=0)))"
   ]
  },
  {
   "cell_type": "code",
   "execution_count": 55,
   "id": "27530f1e",
   "metadata": {},
   "outputs": [
    {
     "name": "stdout",
     "output_type": "stream",
     "text": [
      "Training set score: 0.90\n",
      "Test set score: 0.77\n",
      "Number of features used: 33\n"
     ]
    }
   ],
   "source": [
    "# trying with alpha=0.01\n",
    "\n",
    "from sklearn.linear_model import Lasso\n",
    "lasso_2 = Lasso(alpha=0.01,max_iter=100000).fit(x_train, y_train)\n",
    "# Performance on training and test set\n",
    "print('Training set score: {:.2f}'.format(lasso_2.score(x_train,y_train)))\n",
    "print('Test set score: {:.2f}'.format(lasso_2.score(x_test,y_test)))\n",
    "print('Number of features used: {}'.format(np.sum(lasso_2.coef_!=0)))"
   ]
  },
  {
   "cell_type": "markdown",
   "id": "d92cfe71",
   "metadata": {},
   "source": [
    "A lower alpha allowed us to fit a more complex model, which worked better on the\n",
    "training and test data"
   ]
  },
  {
   "cell_type": "code",
   "execution_count": 57,
   "id": "56fad255",
   "metadata": {},
   "outputs": [
    {
     "name": "stdout",
     "output_type": "stream",
     "text": [
      "Training set score: 0.95\n",
      "Test set score: 0.64\n",
      "Number of features used: 96\n"
     ]
    }
   ],
   "source": [
    "# trying with alpha=0.0001\n",
    "\n",
    "from sklearn.linear_model import Lasso\n",
    "lasso_3 = Lasso(alpha=0.0001,max_iter=100000).fit(x_train, y_train)\n",
    "# Performance on training and test set\n",
    "print('Training set score: {:.2f}'.format(lasso_3.score(x_train,y_train)))\n",
    "print('Test set score: {:.2f}'.format(lasso_3.score(x_test,y_test)))\n",
    "print('Number of features used: {}'.format(np.sum(lasso_3.coef_!=0)))"
   ]
  },
  {
   "cell_type": "markdown",
   "id": "f652a9b8",
   "metadata": {},
   "source": [
    "`alpha=0.0001` leads to overfitting.\n",
    "If we set alpha too low, however, we again remove the effect of regularization and end\n",
    "up overfitting"
   ]
  },
  {
   "cell_type": "markdown",
   "id": "1cb275eb",
   "metadata": {},
   "source": [
    "What happens if alpha is too high?"
   ]
  },
  {
   "cell_type": "code",
   "execution_count": 59,
   "id": "336c2d0d",
   "metadata": {},
   "outputs": [
    {
     "name": "stdout",
     "output_type": "stream",
     "text": [
      "Training set score: 0.95\n",
      "Test set score: 0.64\n",
      "Number of features used: 96\n"
     ]
    }
   ],
   "source": [
    "# trying with alpha=20\n",
    "\n",
    "from sklearn.linear_model import Lasso\n",
    "lasso_4 = Lasso(alpha=0.0001,max_iter=100000).fit(x_train, y_train)\n",
    "# Performance on training and test set\n",
    "print('Training set score: {:.2f}'.format(lasso_4.score(x_train,y_train)))\n",
    "print('Test set score: {:.2f}'.format(lasso_4.score(x_test,y_test)))\n",
    "print('Number of features used: {}'.format(np.sum(lasso_4.coef_!=0)))"
   ]
  },
  {
   "cell_type": "markdown",
   "id": "c755b167",
   "metadata": {},
   "source": [
    "Very poor performance!"
   ]
  },
  {
   "cell_type": "code",
   "execution_count": 69,
   "id": "dded7f9c",
   "metadata": {},
   "outputs": [
    {
     "data": {
      "image/png": "[encoded data removed]",
      "text/plain": [
       "<Figure size 432x288 with 1 Axes>"
      ]
     },
     "metadata": {
      "needs_background": "light"
     },
     "output_type": "display_data"
    }
   ],
   "source": [
    "# Plotting the coefficients of different models\n",
    "\n",
    "plt.plot(lasso.coef_, 's', label=\"Lasso alpha=1\")\n",
    "plt.plot(lasso_2.coef_, '^', label=\"Lasso alpha=0.01\")\n",
    "plt.plot(lasso_3.coef_, 'v', label=\"Lasso alpha=0.0001\")\n",
    "plt.plot(ridge.coef_, 'o', label=\"Ridge alpha=1\")\n",
    "plt.legend(ncol=2, loc=(0.08, 1.05))\n",
    "plt.ylim(-25, 25)\n",
    "plt.xlabel(\"Coefficient index\")\n",
    "plt.ylabel(\"Coefficient magnitude\")\n",
    "plt.show()"
   ]
  },
  {
   "cell_type": "markdown",
   "id": "8e0de699",
   "metadata": {},
   "source": [
    "The Ridge model with `alpha=0.1` has similar\n",
    "predictive performance as the lasso model with `alpha=0.01`, but using Ridge, all coefficients are nonzero.\n",
    "\n",
    "scikit-learn also provides\n",
    "the <b>ElasticNet</b> class, which combines the penalties of Lasso and Ridge. In practice,\n",
    "this combination works best, though at the price of having two parameters to adjust:\n",
    "one for the L1 regularization, and one for the L2 regularization.\n"
   ]
  },
  {
   "cell_type": "code",
   "execution_count": null,
   "id": "515b178f",
   "metadata": {},
   "outputs": [],
   "source": []
  }
 ],
 "metadata": {
  "kernelspec": {
   "display_name": "Python 3",
   "language": "python",
   "name": "python3"
  },
  "language_info": {
   "codemirror_mode": {
    "name": "ipython",
    "version": 3
   },
   "file_extension": ".py",
   "mimetype": "text/x-python",
   "name": "python",
   "nbconvert_exporter": "python",
   "pygments_lexer": "ipython3",
   "version": "3.9.6"
  }
 },
 "nbformat": 4,
 "nbformat_minor": 5
}
